{
 "cells": [
  {
   "cell_type": "markdown",
   "metadata": {},
   "source": [
    "# Extract data along a turtle track"
   ]
  },
  {
   "cell_type": "markdown",
   "metadata": {},
   "source": [
    "This tutorial will teach you how to plot a loggerhead turtle track on a map.\n",
    "That turtle was raised in captivity in Japan, then tagged and released on 05/04/2005 in the Central Pacific. It transmitted for over 3 years and went all the way to the Southern tip of Baja California!\n",
    "\n",
    "The track data can be downloaded here:\n",
    "https://oceanwatch.pifsc.noaa.gov/files/25317_05.dat\n",
    "\n",
    "Then we'll extract SST and chlorophyll concentration at each location along the track, and plot the data.\n",
    "\n",
    "## Load packages"
   ]
  },
  {
   "cell_type": "code",
   "execution_count": 222,
   "metadata": {},
   "outputs": [],
   "source": [
    "import pandas as pd \n",
    "import numpy as np \n",
    "import urllib.request \n",
    "import xarray as xr \n",
    "import netCDF4 as nc \n",
    "import time\n",
    "from matplotlib import pyplot as plt \n",
    "from matplotlib.colors import LinearSegmentedColormap,BoundaryNorm,Normalize\n",
    "from mpl_toolkits.basemap import Basemap\n",
    "from datetime import date,datetime\n",
    "\n",
    "np.warnings.filterwarnings('ignore')"
   ]
  },
  {
   "cell_type": "markdown",
   "metadata": {},
   "source": [
    "- Let's load the track data:"
   ]
  },
  {
   "cell_type": "code",
   "execution_count": null,
   "metadata": {},
   "outputs": [],
   "source": [
    "df=pd.read_csv('25317_05.dat')"
   ]
  },
  {
   "cell_type": "code",
   "execution_count": 289,
   "metadata": {},
   "outputs": [
    {
     "data": {
      "text/html": [
       "<div>\n",
       "<style scoped>\n",
       "    .dataframe tbody tr th:only-of-type {\n",
       "        vertical-align: middle;\n",
       "    }\n",
       "\n",
       "    .dataframe tbody tr th {\n",
       "        vertical-align: top;\n",
       "    }\n",
       "\n",
       "    .dataframe thead th {\n",
       "        text-align: right;\n",
       "    }\n",
       "</style>\n",
       "<table border=\"1\" class=\"dataframe\">\n",
       "  <thead>\n",
       "    <tr style=\"text-align: right;\">\n",
       "      <th></th>\n",
       "      <th>mean_lon</th>\n",
       "      <th>mean_lat</th>\n",
       "      <th>year</th>\n",
       "      <th>month</th>\n",
       "      <th>day</th>\n",
       "    </tr>\n",
       "  </thead>\n",
       "  <tbody>\n",
       "    <tr>\n",
       "      <th>0</th>\n",
       "      <td>176.619433</td>\n",
       "      <td>32.678728</td>\n",
       "      <td>2005</td>\n",
       "      <td>5</td>\n",
       "      <td>4</td>\n",
       "    </tr>\n",
       "    <tr>\n",
       "      <th>1</th>\n",
       "      <td>176.783786</td>\n",
       "      <td>32.755451</td>\n",
       "      <td>2005</td>\n",
       "      <td>5</td>\n",
       "      <td>5</td>\n",
       "    </tr>\n",
       "    <tr>\n",
       "      <th>2</th>\n",
       "      <td>177.086095</td>\n",
       "      <td>32.870337</td>\n",
       "      <td>2005</td>\n",
       "      <td>5</td>\n",
       "      <td>6</td>\n",
       "    </tr>\n",
       "    <tr>\n",
       "      <th>3</th>\n",
       "      <td>177.523857</td>\n",
       "      <td>32.859396</td>\n",
       "      <td>2005</td>\n",
       "      <td>5</td>\n",
       "      <td>7</td>\n",
       "    </tr>\n",
       "    <tr>\n",
       "      <th>4</th>\n",
       "      <td>178.058145</td>\n",
       "      <td>32.674011</td>\n",
       "      <td>2005</td>\n",
       "      <td>5</td>\n",
       "      <td>8</td>\n",
       "    </tr>\n",
       "  </tbody>\n",
       "</table>\n",
       "</div>"
      ],
      "text/plain": [
       "     mean_lon   mean_lat  year  month  day\n",
       "0  176.619433  32.678728  2005      5    4\n",
       "1  176.783786  32.755451  2005      5    5\n",
       "2  177.086095  32.870337  2005      5    6\n",
       "3  177.523857  32.859396  2005      5    7\n",
       "4  178.058145  32.674011  2005      5    8"
      ]
     },
     "execution_count": 289,
     "metadata": {},
     "output_type": "execute_result"
    }
   ],
   "source": [
    "df.head()"
   ]
  },
  {
   "cell_type": "markdown",
   "metadata": {},
   "source": [
    "## Let's plot the track on a map:"
   ]
  },
  {
   "cell_type": "code",
   "execution_count": null,
   "metadata": {},
   "outputs": [],
   "source": [
    "# Setup the bounding box for the zoom and bounds of the map\n",
    "bbox=[120 ,255, 15, 55]\n",
    "    \n",
    "plt.figure(figsize=(10,10))\n",
    "# Define the projection, scale, the corners of the map, and the resolution.\n",
    "m = Basemap(projection='merc',llcrnrlat=bbox[2],urcrnrlat=bbox[3],\\\n",
    "            llcrnrlon=bbox[0],urcrnrlon=bbox[1],lat_ts=10,resolution='l')\n",
    "\n",
    "# Draw coastlines and fill continents and water with color\n",
    "m.drawcoastlines()\n",
    "m.fillcontinents(color='gray')\n",
    "\n",
    "m.drawmeridians(np.arange(bbox[0], bbox[1], 10),labels=[0,0,0,1])\n",
    "m.drawparallels(np.arange(bbox[2]+5, bbox[3], 10),labels=[1,0,0,0])\n",
    "\n",
    "# build and plot coordinates onto map\n",
    "x,y = m(list(df.mean_lon),list(df.mean_lat))\n",
    "m.plot(x,y,color='k')\n",
    "m.plot(x[0],y[0],marker='v',color='r')\n",
    "m.plot(x[-1],y[-1],marker='^',color='g')\n",
    "plt.title(\"Turtle #25317\")\n",
    "plt.show()"
   ]
  },
  {
   "cell_type": "markdown",
   "metadata": {},
   "source": [
    "## Now let's extract data along the track\n",
    "\n",
    "We are going to grab data from ERDDAP, so we need to set up the ERDDAP URLs using their datasets IDs and the name of the variables we are interested in.\n",
    "Note that we are requesting the data as .csv\n",
    "\n",
    "### Chlorophyll-a concentration"
   ]
  },
  {
   "cell_type": "code",
   "execution_count": null,
   "metadata": {},
   "outputs": [],
   "source": [
    "MOD_d = \"https://oceanwatch.pifsc.noaa.gov/erddap/griddap/aqua_chla_1d_2018_0.csv?chlor_a\""
   ]
  },
  {
   "cell_type": "markdown",
   "metadata": {},
   "source": [
    "Ideally, we would work with daily data since we have one location per day. But chlorophyll data is severely affected by clouds (i.e. lots of missing data), so you might need to use weekly or even monthly data to get sufficient non-missing data. \n",
    "\n",
    "Run all 3 of them, and plot a time-series of each to compare (as a separate exercise)."
   ]
  },
  {
   "cell_type": "code",
   "execution_count": null,
   "metadata": {},
   "outputs": [],
   "source": [
    "MOD_w = \"https://oceanwatch.pifsc.noaa.gov/erddap/griddap/aqua_chla_8d_2018_0.csv?chlor_a\" \n",
    "MOD_m = \"https://oceanwatch.pifsc.noaa.gov/erddap/griddap/aqua_chla_monthly_2018_0.csv?chlor_a\""
   ]
  },
  {
   "cell_type": "code",
   "execution_count": null,
   "metadata": {},
   "outputs": [],
   "source": [
    "lon=df.mean_lon\n",
    "lat=df.mean_lat"
   ]
  },
  {
   "cell_type": "markdown",
   "metadata": {},
   "source": [
    "We need to format the dates in a way that ERDDAP understands, i.e. 2010-12-15"
   ]
  },
  {
   "cell_type": "code",
   "execution_count": null,
   "metadata": {},
   "outputs": [],
   "source": [
    "dates=[]\n",
    "for i in range(len(df.month)):\n",
    "    dates.append(date(df.year[i],df.month[i],df.day[i]).strftime('%Y-%m-%d'))"
   ]
  },
  {
   "cell_type": "code",
   "execution_count": 287,
   "metadata": {},
   "outputs": [
    {
     "data": {
      "text/plain": [
       "'2005-05-04'"
      ]
     },
     "execution_count": 287,
     "metadata": {},
     "output_type": "execute_result"
    }
   ],
   "source": [
    "dates[0]"
   ]
  },
  {
   "cell_type": "markdown",
   "metadata": {},
   "source": [
    "For each date and location, we'll extract a value of CHL or SST. To do this, we need to pass those parameters (which dataset, which date, which lon, and which lat) to ERDDAP by building the URL.\n",
    "\n",
    "This can take a long time to run (about 15 mins), we are making 1200+ requests to a remote server. For the purpose of the exercise, you can just run the below code on the first 100 points of the turtle track."
   ]
  },
  {
   "cell_type": "code",
   "execution_count": null,
   "metadata": {},
   "outputs": [],
   "source": [
    "start_time=time.time()\n",
    "col_names =  [\"date\",\"matched_lat\",\"matched_lon\",\"matched_chla\"]\n",
    "tot=pd.DataFrame(columns = col_names)\n",
    "\n",
    "for i in range(len(dates)):\n",
    "#for i in range(5):\n",
    "    print(i,len(dates))\n",
    "    #this is where the URL is built:\n",
    "    url=MOD_m+\"[(\"+str(dates[i])+\"):1:(\"+str(dates[i])+\")][(\"+str(lat[i])+\"):1:(\"+str(lat[i])+\")][(\"+str(lon[i])+\"):1:(\"+str(lon[i])+\")]\"\n",
    "    new=pd.read_csv(url,skiprows=1)\n",
    "    new.columns=col_names\n",
    "    tot=tot.append(new,ignore_index=True)\n",
    "\n",
    "end_time=time.time()\n",
    "print(\"total time = %g mins\" % ((end_time-start_time)/60.))"
   ]
  },
  {
   "cell_type": "code",
   "execution_count": 185,
   "metadata": {},
   "outputs": [
    {
     "data": {
      "text/html": [
       "<div>\n",
       "<style scoped>\n",
       "    .dataframe tbody tr th:only-of-type {\n",
       "        vertical-align: middle;\n",
       "    }\n",
       "\n",
       "    .dataframe tbody tr th {\n",
       "        vertical-align: top;\n",
       "    }\n",
       "\n",
       "    .dataframe thead th {\n",
       "        text-align: right;\n",
       "    }\n",
       "</style>\n",
       "<table border=\"1\" class=\"dataframe\">\n",
       "  <thead>\n",
       "    <tr style=\"text-align: right;\">\n",
       "      <th></th>\n",
       "      <th>date</th>\n",
       "      <th>matched_lat</th>\n",
       "      <th>matched_lon</th>\n",
       "      <th>matched_chla</th>\n",
       "    </tr>\n",
       "  </thead>\n",
       "  <tbody>\n",
       "    <tr>\n",
       "      <th>0</th>\n",
       "      <td>2005-05-16T12:00:00Z</td>\n",
       "      <td>32.687500</td>\n",
       "      <td>176.60417</td>\n",
       "      <td>0.147827</td>\n",
       "    </tr>\n",
       "    <tr>\n",
       "      <th>1</th>\n",
       "      <td>2005-05-16T12:00:00Z</td>\n",
       "      <td>32.770832</td>\n",
       "      <td>176.77083</td>\n",
       "      <td>0.168947</td>\n",
       "    </tr>\n",
       "    <tr>\n",
       "      <th>2</th>\n",
       "      <td>2005-05-16T12:00:00Z</td>\n",
       "      <td>32.854168</td>\n",
       "      <td>177.10417</td>\n",
       "      <td>0.258081</td>\n",
       "    </tr>\n",
       "    <tr>\n",
       "      <th>3</th>\n",
       "      <td>2005-05-16T12:00:00Z</td>\n",
       "      <td>32.854168</td>\n",
       "      <td>177.52083</td>\n",
       "      <td>0.171364</td>\n",
       "    </tr>\n",
       "    <tr>\n",
       "      <th>4</th>\n",
       "      <td>2005-05-16T12:00:00Z</td>\n",
       "      <td>32.687500</td>\n",
       "      <td>178.06252</td>\n",
       "      <td>0.296886</td>\n",
       "    </tr>\n",
       "  </tbody>\n",
       "</table>\n",
       "</div>"
      ],
      "text/plain": [
       "                   date  matched_lat  matched_lon  matched_chla\n",
       "0  2005-05-16T12:00:00Z    32.687500    176.60417      0.147827\n",
       "1  2005-05-16T12:00:00Z    32.770832    176.77083      0.168947\n",
       "2  2005-05-16T12:00:00Z    32.854168    177.10417      0.258081\n",
       "3  2005-05-16T12:00:00Z    32.854168    177.52083      0.171364\n",
       "4  2005-05-16T12:00:00Z    32.687500    178.06252      0.296886"
      ]
     },
     "execution_count": 185,
     "metadata": {},
     "output_type": "execute_result"
    }
   ],
   "source": [
    "tot.head()"
   ]
  },
  {
   "cell_type": "markdown",
   "metadata": {},
   "source": [
    "We now have a value of monthly chlorophyll-a concentration for each location/date combination along the turtle track."
   ]
  },
  {
   "cell_type": "markdown",
   "metadata": {},
   "source": [
    "## On your own!"
   ]
  },
  {
   "cell_type": "markdown",
   "metadata": {},
   "source": [
    "- Exercise 1:\n",
    "Repeat the steps above with a different dataset.\n",
    "For example, extract sea surface temperature data using the following dataset:\n",
    "https://oceanwatch.pifsc.noaa.gov/erddap/griddap/CRW_sst_v1_0.html\n",
    "\n",
    "\n",
    "- Exercise 2:\n",
    "Go to an ERDDAP of your choice, find a dataset of interest, generate the URL, copy it and edit the script above to run a match up on that dataset.\n",
    "To find other ERDDAP servers, you can use this search engine:\n",
    "http://erddap.com/\n",
    "\n",
    "Note! some ERDDAPs are slower than others, so this could take a lot longer. \n",
    "If it takes too long, adjust the \"for\" loop to request data for only the first 100 days of our track."
   ]
  },
  {
   "cell_type": "markdown",
   "metadata": {},
   "source": [
    "## Plot #2"
   ]
  },
  {
   "cell_type": "markdown",
   "metadata": {},
   "source": [
    "Let's plot the track, color coded using values of monthly chlorophyll concentration.\n"
   ]
  },
  {
   "cell_type": "markdown",
   "metadata": {},
   "source": [
    "- Let's create a color scale"
   ]
  },
  {
   "cell_type": "code",
   "execution_count": 187,
   "metadata": {},
   "outputs": [],
   "source": [
    "jet=[\"blue\", \"#007FFF\", \"cyan\",\"#7FFF7F\", \"yellow\", \"#FF7F00\", \"red\", \"#7F0000\"] "
   ]
  },
  {
   "cell_type": "markdown",
   "metadata": {},
   "source": [
    "- Let's look at the range of log of monthly chlorophyll values:"
   ]
  },
  {
   "cell_type": "code",
   "execution_count": 190,
   "metadata": {},
   "outputs": [
    {
     "data": {
      "text/plain": [
       "(-2.8923874400191183, 2.136305926186285)"
      ]
     },
     "execution_count": 190,
     "metadata": {},
     "output_type": "execute_result"
    }
   ],
   "source": [
    "np.min(np.log(tot.matched_chla)),np.max(np.log(tot.matched_chla))"
   ]
  },
  {
   "cell_type": "code",
   "execution_count": 195,
   "metadata": {},
   "outputs": [
    {
     "data": {
      "image/png": "[encoded data removed]",
      "text/plain": [
       "<Figure size 432x288 with 1 Axes>"
      ]
     },
     "metadata": {},
     "output_type": "display_data"
    }
   ],
   "source": [
    "n, bins, patches=plt.hist(np.log(tot.matched_chla[~np.isnan(tot.matched_chla)]),50)\n",
    "plt.show()"
   ]
  },
  {
   "cell_type": "markdown",
   "metadata": {},
   "source": [
    "The range of log(chl-a) is -2.9 to 2.2 but most of the values are between -2.9 and 0. \n",
    "\n",
    "We use the log because the range of chlorophll values can be pretty big, with lots of very low values, and a few very high values."
   ]
  },
  {
   "cell_type": "code",
   "execution_count": 263,
   "metadata": {},
   "outputs": [],
   "source": [
    "levs = np.append(np.arange(-2.9,0,0.1),2.2)\n",
    "cm = LinearSegmentedColormap.from_list('my_jet', jet, N=len(levs))"
   ]
  },
  {
   "cell_type": "markdown",
   "metadata": {},
   "source": [
    "BoundaryNorm will force the colorbar to use the breaks in levs."
   ]
  },
  {
   "cell_type": "code",
   "execution_count": 290,
   "metadata": {},
   "outputs": [],
   "source": [
    "norm = BoundaryNorm(levs, len(levs))"
   ]
  },
  {
   "cell_type": "code",
   "execution_count": 291,
   "metadata": {},
   "outputs": [
    {
     "data": {
      "image/png": "[encoded data removed]",
      "text/plain": [
       "<Figure size 720x720 with 2 Axes>"
      ]
     },
     "metadata": {},
     "output_type": "display_data"
    }
   ],
   "source": [
    "# Setup the bounding box for the zoom and bounds of the map\n",
    "bbox=[120 ,255, 15, 55]\n",
    "    \n",
    "plt.figure(figsize=(10,10))\n",
    "# Define the projection, scale, the corners of the map, and the resolution.\n",
    "m = Basemap(projection='merc',llcrnrlat=bbox[2],urcrnrlat=bbox[3],\\\n",
    "            llcrnrlon=bbox[0],urcrnrlon=bbox[1],lat_ts=10,resolution='l')\n",
    "\n",
    "# Draw coastlines and fill continents and water with color\n",
    "m.drawcoastlines()\n",
    "m.fillcontinents(color='gray')\n",
    "\n",
    "m.drawmeridians(np.arange(bbox[0], bbox[1], 10),labels=[0,0,0,1])\n",
    "m.drawparallels(np.arange(bbox[2]+5, bbox[3], 10),labels=[1,0,0,0])\n",
    "\n",
    "# build and plot coordinates onto map\n",
    "x,y = m(list(df.mean_lon),list(df.mean_lat))\n",
    "m.scatter(x,y,c=np.log(tot.matched_chla),cmap=cm,norm=norm)\n",
    "\n",
    "m.plot(x[0],y[0],marker='v',color='r')\n",
    "m.plot(x[-1],y[-1],marker='^',color='g')\n",
    "\n",
    "#let's customize the color bar so the label reflect values of chl-a, not log(chl-a)\n",
    "#we build levs2 to have the labels more spaced out than the values in levs\n",
    "levs2=np.append(np.arange(-2.9,0,0.5),2.2)\n",
    "cbar=m.colorbar(fraction=0.022,ticks=levs2, label='Chl a (mg/m^3))')\n",
    "#and set the labels to be exp(levs2)\n",
    "cbar.ax.set_yticklabels(np.around(np.exp(levs2),2))\n",
    "\n",
    "plt.title(\"Turtle #25317\")\n",
    "plt.show()"
   ]
  }
 ],
 "metadata": {
  "kernelspec": {
   "display_name": "Python 3",
   "language": "python",
   "name": "python3"
  },
  "language_info": {
   "codemirror_mode": {
    "name": "ipython",
    "version": 3
   },
   "file_extension": ".py",
   "mimetype": "text/x-python",
   "name": "python",
   "nbconvert_exporter": "python",
   "pygments_lexer": "ipython3",
   "version": "3.6.4"
  }
 },
 "nbformat": 4,
 "nbformat_minor": 2
}
